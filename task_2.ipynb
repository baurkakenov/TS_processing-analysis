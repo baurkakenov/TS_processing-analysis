{
 "cells": [
  {
   "cell_type": "code",
   "execution_count": 285,
   "metadata": {},
   "outputs": [],
   "source": [
    "from math import *\n",
    "import matplotlib.pyplot as plt\n",
    "N = 1000\n",
    "dt = 1.421\n",
    "t = 0.01\n",
    "T = time_series(dt, N)"
   ]
  },
  {
   "cell_type": "code",
   "execution_count": 286,
   "metadata": {},
   "outputs": [],
   "source": [
    "def time_series(dt, N):\n",
    "    return [[cos(dt * i + t), sin(dt * i + t)] for i in range(1, N + 2)]\n"
   ]
  },
  {
   "cell_type": "code",
   "execution_count": 287,
   "metadata": {},
   "outputs": [],
   "source": [
    "def make_w(ind, T, m):\n",
    "    return T[ind : (ind + m)]"
   ]
  },
  {
   "cell_type": "code",
   "execution_count": 288,
   "metadata": {},
   "outputs": [],
   "source": [
    "def distance(x_i, x_j, m):\n",
    "    sum = 0\n",
    "    for k in range(m):\n",
    "        sum += abs(x_i[k][0] - x_j[k][0]) + abs(x_i[k][1] - x_j[k][1])\n",
    "    return sum"
   ]
  },
  {
   "cell_type": "code",
   "execution_count": 289,
   "metadata": {},
   "outputs": [],
   "source": [
    "def nearest(x_i, m):\n",
    "    min_j = N + 1\n",
    "    min_val = N + 1\n",
    "    for j in range(i + 1, N - m):\n",
    "        x_j = make_w(j, T, m)\n",
    "        if (distance(x_i, x_j, m) < min_val):\n",
    "            min_j = j\n",
    "            min_val = distance(x_i, x_j, m)\n",
    "    return min_j\n",
    "    "
   ]
  },
  {
   "cell_type": "code",
   "execution_count": 290,
   "metadata": {},
   "outputs": [],
   "source": [
    "m = 1\n",
    "graph = {}\n",
    "while m < 20:\n",
    "    P = 0\n",
    "    for i in range(N - m - 1):\n",
    "        x_i = make_w(i, T, m)\n",
    "        j = nearest(x_i, m)\n",
    "        x_j = make_w(j, T, m)\n",
    "        d = distance(x_i, x_j, m)\n",
    "        x_i_next = make_w(i, T, m + 1)\n",
    "        x_j_next = make_w(j, T, m + 1)\n",
    "        D = distance(x_i_next, x_j_next, m + 1)\n",
    "        if abs(D / d) > 1.1:\n",
    "            P += 1\n",
    "    graph[m] = P\n",
    "    m += 1\n",
    "    "
   ]
  },
  {
   "cell_type": "code",
   "execution_count": 291,
   "metadata": {},
   "outputs": [
    {
     "data": {
      "image/png": "[encoded data removed]",
      "text/plain": [
       "<Figure size 432x288 with 1 Axes>"
      ]
     },
     "metadata": {
      "needs_background": "light"
     },
     "output_type": "display_data"
    }
   ],
   "source": [
    "L = list(graph.items())\n",
    "x, y = zip(*L)\n",
    "plt.plot(x, y)\n",
    "plt.show()"
   ]
  }
 ],
 "metadata": {
  "kernelspec": {
   "display_name": "Python 3",
   "language": "python",
   "name": "python3"
  },
  "language_info": {
   "codemirror_mode": {
    "name": "ipython",
    "version": 3
   },
   "file_extension": ".py",
   "mimetype": "text/x-python",
   "name": "python",
   "nbconvert_exporter": "python",
   "pygments_lexer": "ipython3",
   "version": "3.7.5"
  }
 },
 "nbformat": 4,
 "nbformat_minor": 2
}
