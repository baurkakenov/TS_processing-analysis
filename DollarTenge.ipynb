{
 "cells": [
  {
   "cell_type": "code",
   "execution_count": 2,
   "metadata": {},
   "outputs": [],
   "source": [
    "from math import *\n",
    "import numpy as np\n",
    "import pandas as pd\n",
    "import matplotlib.pyplot as plt"
   ]
  },
  {
   "cell_type": "code",
   "execution_count": 3,
   "metadata": {},
   "outputs": [],
   "source": [
    "X = pd.read_csv('dollar_tenge.csv', encoding = 'UTF-8', delimiter = ';')\n",
    "X = X.drop(['USD_quant'], axis = 1)\n",
    "X_1_year = X[:366]"
   ]
  },
  {
   "cell_type": "markdown",
   "metadata": {},
   "source": [
    "Берем данные за год"
   ]
  },
  {
   "cell_type": "code",
   "execution_count": 4,
   "metadata": {},
   "outputs": [
    {
     "data": {
      "text/html": [
       "<div>\n",
       "<style scoped>\n",
       "    .dataframe tbody tr th:only-of-type {\n",
       "        vertical-align: middle;\n",
       "    }\n",
       "\n",
       "    .dataframe tbody tr th {\n",
       "        vertical-align: top;\n",
       "    }\n",
       "\n",
       "    .dataframe thead th {\n",
       "        text-align: right;\n",
       "    }\n",
       "</style>\n",
       "<table border=\"1\" class=\"dataframe\">\n",
       "  <thead>\n",
       "    <tr style=\"text-align: right;\">\n",
       "      <th></th>\n",
       "      <th>Date</th>\n",
       "      <th>USD</th>\n",
       "    </tr>\n",
       "  </thead>\n",
       "  <tbody>\n",
       "    <tr>\n",
       "      <td>0</td>\n",
       "      <td>2019-01-01</td>\n",
       "      <td>384.20</td>\n",
       "    </tr>\n",
       "    <tr>\n",
       "      <td>1</td>\n",
       "      <td>2019-01-02</td>\n",
       "      <td>384.20</td>\n",
       "    </tr>\n",
       "    <tr>\n",
       "      <td>2</td>\n",
       "      <td>2019-01-03</td>\n",
       "      <td>384.20</td>\n",
       "    </tr>\n",
       "    <tr>\n",
       "      <td>3</td>\n",
       "      <td>2019-01-04</td>\n",
       "      <td>381.38</td>\n",
       "    </tr>\n",
       "    <tr>\n",
       "      <td>4</td>\n",
       "      <td>2019-01-05</td>\n",
       "      <td>378.12</td>\n",
       "    </tr>\n",
       "    <tr>\n",
       "      <td>...</td>\n",
       "      <td>...</td>\n",
       "      <td>...</td>\n",
       "    </tr>\n",
       "    <tr>\n",
       "      <td>361</td>\n",
       "      <td>2019-12-28</td>\n",
       "      <td>380.44</td>\n",
       "    </tr>\n",
       "    <tr>\n",
       "      <td>362</td>\n",
       "      <td>2019-12-29</td>\n",
       "      <td>380.44</td>\n",
       "    </tr>\n",
       "    <tr>\n",
       "      <td>363</td>\n",
       "      <td>2019-12-30</td>\n",
       "      <td>380.44</td>\n",
       "    </tr>\n",
       "    <tr>\n",
       "      <td>364</td>\n",
       "      <td>2019-12-31</td>\n",
       "      <td>381.18</td>\n",
       "    </tr>\n",
       "    <tr>\n",
       "      <td>365</td>\n",
       "      <td>2020-01-01</td>\n",
       "      <td>382.59</td>\n",
       "    </tr>\n",
       "  </tbody>\n",
       "</table>\n",
       "<p>366 rows × 2 columns</p>\n",
       "</div>"
      ],
      "text/plain": [
       "           Date     USD\n",
       "0    2019-01-01  384.20\n",
       "1    2019-01-02  384.20\n",
       "2    2019-01-03  384.20\n",
       "3    2019-01-04  381.38\n",
       "4    2019-01-05  378.12\n",
       "..          ...     ...\n",
       "361  2019-12-28  380.44\n",
       "362  2019-12-29  380.44\n",
       "363  2019-12-30  380.44\n",
       "364  2019-12-31  381.18\n",
       "365  2020-01-01  382.59\n",
       "\n",
       "[366 rows x 2 columns]"
      ]
     },
     "execution_count": 4,
     "metadata": {},
     "output_type": "execute_result"
    }
   ],
   "source": [
    "X_1_year"
   ]
  },
  {
   "cell_type": "code",
   "execution_count": 5,
   "metadata": {},
   "outputs": [
    {
     "name": "stdout",
     "output_type": "stream",
     "text": [
      "366 45\n"
     ]
    }
   ],
   "source": [
    "Date = X_1_year['Date'].values\n",
    "series = X_1_year['USD'].values\n",
    "N = len(series)\n",
    "tau = (N + 1) // 8\n",
    "r = 15\n",
    "print(N, tau)"
   ]
  },
  {
   "cell_type": "markdown",
   "metadata": {},
   "source": [
    "1. Преобразование одномерного ряда в многомерный"
   ]
  },
  {
   "cell_type": "code",
   "execution_count": 6,
   "metadata": {},
   "outputs": [
    {
     "data": {
      "text/plain": [
       "(45, 321)"
      ]
     },
     "execution_count": 6,
     "metadata": {},
     "output_type": "execute_result"
    }
   ],
   "source": [
    "full_X = [series[i: N - tau + i] for i in range(tau)]\n",
    "full_X = np.array(full_X)\n",
    "full_X.shape"
   ]
  },
  {
   "cell_type": "markdown",
   "metadata": {},
   "source": [
    "Считаем ковариационную матрицу"
   ]
  },
  {
   "cell_type": "code",
   "execution_count": 7,
   "metadata": {},
   "outputs": [],
   "source": [
    "covMatrix = np.cov(full_X)\n",
    "L, V = np.linalg.eig(covMatrix)"
   ]
  },
  {
   "cell_type": "code",
   "execution_count": 8,
   "metadata": {},
   "outputs": [
    {
     "data": {
      "text/plain": [
       "array([7.15334721e+02, 3.52234247e+01, 2.26001266e+01, 1.67516364e+01,\n",
       "       6.54605862e+00, 6.36691721e+00, 2.92056568e+00, 1.79900883e+00,\n",
       "       1.72259927e+00, 1.69803281e+00, 1.59521962e+00, 1.34284626e+00,\n",
       "       1.13305165e+00, 1.24147994e+00, 1.20850111e+00, 1.19391126e+00,\n",
       "       7.93971907e-01, 4.20805804e-01, 4.09839191e-01, 3.89098914e-01,\n",
       "       3.54637751e-01, 3.42643666e-01, 3.06426092e-01, 2.91351644e-01,\n",
       "       2.87037012e-01, 2.62563120e-01, 2.57133991e-01, 2.45836284e-01,\n",
       "       2.29821382e-01, 2.26452884e-01, 6.14283112e-02, 1.93920349e-01,\n",
       "       1.77498050e-01, 1.76865101e-01, 8.52087321e-02, 1.59796045e-01,\n",
       "       1.51696993e-01, 9.70695196e-02, 1.40010517e-01, 1.31810474e-01,\n",
       "       1.06228447e-01, 1.08985336e-01, 1.15568787e-01, 1.19727089e-01,\n",
       "       1.21607573e-01])"
      ]
     },
     "execution_count": 8,
     "metadata": {},
     "output_type": "execute_result"
    }
   ],
   "source": [
    "L"
   ]
  },
  {
   "cell_type": "code",
   "execution_count": 9,
   "metadata": {},
   "outputs": [
    {
     "data": {
      "text/plain": [
       "array([[ 0.14788525,  0.1535969 , -0.11577085, ..., -0.04749842,\n",
       "        -0.05552948, -0.00408814],\n",
       "       [ 0.14969253,  0.16094823, -0.1435594 , ...,  0.07645181,\n",
       "         0.09987855, -0.02669943],\n",
       "       [ 0.15132378,  0.1656785 , -0.16463754, ..., -0.03454185,\n",
       "        -0.05463073,  0.090432  ],\n",
       "       ...,\n",
       "       [ 0.13996223, -0.20870986, -0.14707966, ...,  0.02156238,\n",
       "         0.10462874,  0.09113472],\n",
       "       [ 0.13802631, -0.20922664, -0.13339245, ..., -0.09214676,\n",
       "        -0.14671573,  0.01117808],\n",
       "       [ 0.13593544, -0.20678024, -0.11549657, ...,  0.06464084,\n",
       "         0.07749826, -0.03231913]])"
      ]
     },
     "execution_count": 9,
     "metadata": {},
     "output_type": "execute_result"
    }
   ],
   "source": [
    "V"
   ]
  },
  {
   "cell_type": "markdown",
   "metadata": {},
   "source": [
    "Выберем первые 15 главных векторов."
   ]
  },
  {
   "cell_type": "code",
   "execution_count": 10,
   "metadata": {},
   "outputs": [],
   "source": [
    "V = V[:r]"
   ]
  },
  {
   "cell_type": "markdown",
   "metadata": {},
   "source": [
    "Считаем Y"
   ]
  },
  {
   "cell_type": "code",
   "execution_count": 11,
   "metadata": {},
   "outputs": [],
   "source": [
    "Y = V.transpose()\n",
    "Y = Y.dot(full_X[:r])"
   ]
  },
  {
   "cell_type": "markdown",
   "metadata": {},
   "source": [
    "Восстанавливаем исходную матрицу Х используя первые r = 15 собственных векторов V"
   ]
  },
  {
   "cell_type": "code",
   "execution_count": 12,
   "metadata": {},
   "outputs": [
    {
     "data": {
      "text/plain": [
       "array([[384.2 , 384.2 , 384.2 , ..., 388.49, 388.07, 388.07],\n",
       "       [384.2 , 384.2 , 381.38, ..., 388.07, 388.07, 388.07],\n",
       "       [384.2 , 381.38, 378.12, ..., 388.07, 388.07, 387.14],\n",
       "       ...,\n",
       "       [376.06, 376.06, 378.29, ..., 386.49, 386.19, 386.31],\n",
       "       [376.06, 378.29, 377.85, ..., 386.19, 386.31, 386.35],\n",
       "       [378.29, 377.85, 377.95, ..., 386.31, 386.35, 386.35]])"
      ]
     },
     "execution_count": 12,
     "metadata": {},
     "output_type": "execute_result"
    }
   ],
   "source": [
    "new_X = V.dot(Y)\n",
    "new_X"
   ]
  },
  {
   "cell_type": "markdown",
   "metadata": {},
   "source": [
    "Посмотрим результат на графиках"
   ]
  },
  {
   "cell_type": "code",
   "execution_count": 13,
   "metadata": {},
   "outputs": [
    {
     "data": {
      "image/png": "[encoded data removed]",
      "text/plain": [
       "<Figure size 432x288 with 1 Axes>"
      ]
     },
     "metadata": {
      "needs_background": "light"
     },
     "output_type": "display_data"
    }
   ],
   "source": [
    "real = np.hstack((full_X[0][:tau], full_X[tau - 1]))\n",
    "prediction = np.hstack((new_X[0][:tau], new_X[r - 1]))\n",
    "\n",
    "plt.plot(Date, real, 'b')\n",
    "plt.plot(Date, prediction, 'r' )\n",
    "plt.xlabel('Date')\n",
    "plt.ylabel('Tenge')\n",
    "plt.show()"
   ]
  },
  {
   "cell_type": "markdown",
   "metadata": {},
   "source": [
    "Предскажем теперь до 10.03.2020.\n",
    "Делаем аналогично. "
   ]
  },
  {
   "cell_type": "code",
   "execution_count": 14,
   "metadata": {},
   "outputs": [
    {
     "data": {
      "text/html": [
       "<div>\n",
       "<style scoped>\n",
       "    .dataframe tbody tr th:only-of-type {\n",
       "        vertical-align: middle;\n",
       "    }\n",
       "\n",
       "    .dataframe tbody tr th {\n",
       "        vertical-align: top;\n",
       "    }\n",
       "\n",
       "    .dataframe thead th {\n",
       "        text-align: right;\n",
       "    }\n",
       "</style>\n",
       "<table border=\"1\" class=\"dataframe\">\n",
       "  <thead>\n",
       "    <tr style=\"text-align: right;\">\n",
       "      <th></th>\n",
       "      <th>Date</th>\n",
       "      <th>USD</th>\n",
       "    </tr>\n",
       "  </thead>\n",
       "  <tbody>\n",
       "    <tr>\n",
       "      <td>0</td>\n",
       "      <td>2019-01-01</td>\n",
       "      <td>384.20</td>\n",
       "    </tr>\n",
       "    <tr>\n",
       "      <td>1</td>\n",
       "      <td>2019-01-02</td>\n",
       "      <td>384.20</td>\n",
       "    </tr>\n",
       "    <tr>\n",
       "      <td>2</td>\n",
       "      <td>2019-01-03</td>\n",
       "      <td>384.20</td>\n",
       "    </tr>\n",
       "    <tr>\n",
       "      <td>3</td>\n",
       "      <td>2019-01-04</td>\n",
       "      <td>381.38</td>\n",
       "    </tr>\n",
       "    <tr>\n",
       "      <td>4</td>\n",
       "      <td>2019-01-05</td>\n",
       "      <td>378.12</td>\n",
       "    </tr>\n",
       "    <tr>\n",
       "      <td>...</td>\n",
       "      <td>...</td>\n",
       "      <td>...</td>\n",
       "    </tr>\n",
       "    <tr>\n",
       "      <td>430</td>\n",
       "      <td>2020-03-06</td>\n",
       "      <td>380.53</td>\n",
       "    </tr>\n",
       "    <tr>\n",
       "      <td>431</td>\n",
       "      <td>2020-03-07</td>\n",
       "      <td>382.05</td>\n",
       "    </tr>\n",
       "    <tr>\n",
       "      <td>432</td>\n",
       "      <td>2020-03-08</td>\n",
       "      <td>382.05</td>\n",
       "    </tr>\n",
       "    <tr>\n",
       "      <td>433</td>\n",
       "      <td>2020-03-09</td>\n",
       "      <td>382.05</td>\n",
       "    </tr>\n",
       "    <tr>\n",
       "      <td>434</td>\n",
       "      <td>2020-03-10</td>\n",
       "      <td>382.05</td>\n",
       "    </tr>\n",
       "  </tbody>\n",
       "</table>\n",
       "<p>435 rows × 2 columns</p>\n",
       "</div>"
      ],
      "text/plain": [
       "           Date     USD\n",
       "0    2019-01-01  384.20\n",
       "1    2019-01-02  384.20\n",
       "2    2019-01-03  384.20\n",
       "3    2019-01-04  381.38\n",
       "4    2019-01-05  378.12\n",
       "..          ...     ...\n",
       "430  2020-03-06  380.53\n",
       "431  2020-03-07  382.05\n",
       "432  2020-03-08  382.05\n",
       "433  2020-03-09  382.05\n",
       "434  2020-03-10  382.05\n",
       "\n",
       "[435 rows x 2 columns]"
      ]
     },
     "execution_count": 14,
     "metadata": {},
     "output_type": "execute_result"
    }
   ],
   "source": [
    "X"
   ]
  },
  {
   "cell_type": "code",
   "execution_count": 15,
   "metadata": {},
   "outputs": [
    {
     "name": "stdout",
     "output_type": "stream",
     "text": [
      "435 54\n"
     ]
    }
   ],
   "source": [
    "Date = X['Date'].values\n",
    "series = X['USD'].values\n",
    "N = len(series)\n",
    "tau = (N + 1) // 8\n",
    "r = 15\n",
    "print(N, tau)"
   ]
  },
  {
   "cell_type": "code",
   "execution_count": 16,
   "metadata": {},
   "outputs": [],
   "source": [
    "Full_X = [series[i: N - tau + i] for i in range(tau)]\n",
    "Full_X = np.array(Full_X)"
   ]
  },
  {
   "cell_type": "code",
   "execution_count": 17,
   "metadata": {},
   "outputs": [],
   "source": [
    "covMatrix_F = np.cov(Full_X)\n",
    "L_F, V_F = np.linalg.eig(covMatrix_F)"
   ]
  },
  {
   "cell_type": "code",
   "execution_count": 18,
   "metadata": {},
   "outputs": [],
   "source": [
    "V_F = V_F[:r]"
   ]
  },
  {
   "cell_type": "code",
   "execution_count": 19,
   "metadata": {},
   "outputs": [],
   "source": [
    "Y_F = V_F.transpose()\n",
    "Y_F = Y_F.dot(Full_X[:r])"
   ]
  },
  {
   "cell_type": "code",
   "execution_count": 20,
   "metadata": {},
   "outputs": [],
   "source": [
    "pred_X = V_F.dot(Y_F)"
   ]
  },
  {
   "cell_type": "code",
   "execution_count": 21,
   "metadata": {},
   "outputs": [
    {
     "data": {
      "image/png": "[encoded data removed]",
      "text/plain": [
       "<Figure size 432x288 with 1 Axes>"
      ]
     },
     "metadata": {
      "needs_background": "light"
     },
     "output_type": "display_data"
    }
   ],
   "source": [
    "real_F = np.hstack((Full_X[0][:tau], Full_X[tau - 1]))\n",
    "prediction_F = np.hstack((pred_X[0][:tau], pred_X[r - 1]))\n",
    "\n",
    "plt.plot(Date, real_F, 'b')\n",
    "plt.plot(Date, prediction_F, 'r')\n",
    "plt.xlabel('Date')\n",
    "plt.ylabel('Tenge')\n",
    "\n",
    "plt.show()"
   ]
  }
 ],
 "metadata": {
  "kernelspec": {
   "display_name": "Python 3",
   "language": "python",
   "name": "python3"
  },
  "language_info": {
   "codemirror_mode": {
    "name": "ipython",
    "version": 3
   },
   "file_extension": ".py",
   "mimetype": "text/x-python",
   "name": "python",
   "nbconvert_exporter": "python",
   "pygments_lexer": "ipython3",
   "version": "3.7.5"
  }
 },
 "nbformat": 4,
 "nbformat_minor": 2
}
